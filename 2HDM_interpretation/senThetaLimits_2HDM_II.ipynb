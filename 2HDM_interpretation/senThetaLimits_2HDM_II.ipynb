{
 "cells": [
  {
   "cell_type": "code",
   "execution_count": 1,
   "metadata": {},
   "outputs": [],
   "source": [
    "import pandas as pd\n",
    "import numpy as np\n",
    "import requests\n",
    "import math\n",
    "import re\n",
    "import csv"
   ]
  },
  {
   "cell_type": "markdown",
   "metadata": {},
   "source": [
    "## 2HDM (type II, tgB = 2) limits from the low mass dark photon search\n",
    "\n",
    "### Evaluation of sinTheta limits starting from the upper limit on the cross section * BR * acceptance\n",
    "\n",
    "`Acceptance` evaluated generating gg $\\to$ A events with Pythia\n",
    "\n",
    "`Cross section` computed using HiGLU+HDECAY generators\n",
    "`Branching ratios` (A $\\to \\mu\\mu$) retrieved from here: ([link](https://github.com/cecilecaillol/CMS_HAA_SummaryPlots/blob/master/BR/BR_II_2.0.dat))"
   ]
  },
  {
   "cell_type": "code",
   "execution_count": 2,
   "metadata": {},
   "outputs": [
    {
     "data": {
      "text/plain": [
       "[0.01183, 0.0233, 0.11984, 0.11146, 0.13245, 0.15044, 0.16613]"
      ]
     },
     "execution_count": 2,
     "metadata": {},
     "output_type": "execute_result"
    }
   ],
   "source": [
    "# MODEL INDEPENDENT LIMITS on the cross section in pb for different mass points (GeV): 1,2,4,5,6,7,8. \n",
    "\n",
    "# Validation: mS = 20 GeV\n",
    "obs_limit = np.array([0.103242, 0.0958677, 0.120859, 0.0762025, 0.0827576, 0.0938192, 0.11963])\n",
    "#obs_limit = [ 0.103242, 0.0958677, 0.120859, 0.0762025, 0.0827576, 0.0938192, 0.11963, 0.15 ]\n",
    "\n",
    "\n",
    "# HiGLU standalone\n",
    "xsec_higlu = np.array([77570, 21045, 17028, 14045, 12043, 10803, 10107])\n",
    "\n",
    "br_amumu = np.array([0.122841, 0.105180, 0.005835, 0.004294, 0.003692, 0.003390, 0.003165])\n",
    "            \n",
    "acc_amumu = np.array([0.0774, 0.0798, 0.0847, 0.1017, 0.1061, 0.1132, 0.1355])    \n",
    "\n",
    "senTheta_limit = []\n",
    "\n",
    "for x in range(7):  \n",
    "    senTheta = math.sqrt(obs_limit[x] / (xsec_higlu[x] * br_amumu[x] * acc_amumu[x]))\n",
    "    senTheta_limit.append(round(senTheta,5))\n",
    "\n",
    "senTheta_limit"
   ]
  },
  {
   "cell_type": "code",
   "execution_count": null,
   "metadata": {},
   "outputs": [],
   "source": []
  }
 ],
 "metadata": {
  "kernelspec": {
   "display_name": "Python 3",
   "language": "python",
   "name": "python3"
  },
  "language_info": {
   "codemirror_mode": {
    "name": "ipython",
    "version": 3
   },
   "file_extension": ".py",
   "mimetype": "text/x-python",
   "name": "python",
   "nbconvert_exporter": "python",
   "pygments_lexer": "ipython3",
   "version": "3.7.4"
  }
 },
 "nbformat": 4,
 "nbformat_minor": 2
}
