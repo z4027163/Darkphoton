{
 "cells": [
  {
   "cell_type": "code",
   "execution_count": 1,
   "metadata": {},
   "outputs": [],
   "source": [
    "import pandas as pd\n",
    "import numpy as np\n",
    "import requests\n",
    "import math\n",
    "import re\n",
    "import csv"
   ]
  },
  {
   "cell_type": "markdown",
   "metadata": {},
   "source": [
    "## 2HDM (type III, tgB = 5) limits from the low mass dark photon search\n",
    "\n",
    "### Evaluation of sinTheta limits starting from the upper limit on the cross section * BR * acceptance\n",
    "\n",
    "`Acceptance` evaluated generating gg $\\to$ A events with Pythia\n",
    "\n",
    "`Cross section` computed using HiGLU+HDECAY generators\n",
    "`Branching ratios` (A $\\to \\mu\\mu$) retrieved from here: ([link](https://github.com/cecilecaillol/CMS_HAA_SummaryPlots/blob/master/BR/BR_III_5.0.dat))"
   ]
  },
  {
   "cell_type": "code",
   "execution_count": 3,
   "metadata": {},
   "outputs": [
    {
     "data": {
      "text/plain": [
       "[0.00427, 0.0077, 0.10958, 0.10483, 0.12312, 0.13834, 0.15018]"
      ]
     },
     "execution_count": 3,
     "metadata": {},
     "output_type": "execute_result"
    }
   ],
   "source": [
    "# MODEL INDEPENDENT LIMITS on the cross section in pb for different mass points (GeV): 1,2,4,5,6,7,8. \n",
    "\n",
    "# Validation: mS = 20 GeV\n",
    "obs_limit = np.array([0.103242, 0.0958677, 0.120859, 0.0762025, 0.0827576, 0.0938192, 0.11963])\n",
    "#obs_limit = [ 0.103242, 0.0958677, 0.120859, 0.0762025, 0.0827576, 0.0938192, 0.11963, 0.15 ]\n",
    "\n",
    "\n",
    "# HiGLU standalone\n",
    "xsec_higlu = np.array([77570, 21045, 17028, 14045, 12043, 10803, 10107])\n",
    "\n",
    "br_amumu = np.array([0.943717, 0.963351, 0.006979, 0.004855, 0.004273, 0.004009, 0.003873])\n",
    "            \n",
    "acc_amumu = np.array([0.0774, 0.0798, 0.0847, 0.1017, 0.1061, 0.1132, 0.1355])    \n",
    "\n",
    "    \n",
    "senTheta_limit = []\n",
    "\n",
    "for x in range(7):  \n",
    "    senTheta = math.sqrt(obs_limit[x] / (xsec_higlu[x] * br_amumu[x] * acc_amumu[x]))\n",
    "    senTheta_limit.append(round(senTheta,5))\n",
    "\n",
    "senTheta_limit"
   ]
  },
  {
   "cell_type": "code",
   "execution_count": null,
   "metadata": {},
   "outputs": [],
   "source": []
  }
 ],
 "metadata": {
  "kernelspec": {
   "display_name": "Python 3",
   "language": "python",
   "name": "python3"
  },
  "language_info": {
   "codemirror_mode": {
    "name": "ipython",
    "version": 3
   },
   "file_extension": ".py",
   "mimetype": "text/x-python",
   "name": "python",
   "nbconvert_exporter": "python",
   "pygments_lexer": "ipython3",
   "version": "3.7.4"
  }
 },
 "nbformat": 4,
 "nbformat_minor": 2
}
